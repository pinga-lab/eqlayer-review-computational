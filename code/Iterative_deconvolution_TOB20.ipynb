{
 "cells": [
  {
   "cell_type": "markdown",
   "id": "1f4397de",
   "metadata": {},
   "source": [
    "# Iterative deconvolution of Takahashi et al. (2020) - $\\mathtt{TOB20}$"
   ]
  },
  {
   "cell_type": "code",
   "execution_count": 1,
   "id": "f9d5f36b",
   "metadata": {},
   "outputs": [],
   "source": [
    "%matplotlib inline\n",
    "import matplotlib.pyplot as plt\n",
    "from matplotlib.pyplot import imshow\n",
    "from PIL import Image\n",
    "\n",
    "import numpy as np\n",
    "import pickle\n",
    "\n",
    "# 3D visualization\n",
    "import pyvista as pv\n",
    "\n",
    "from gravmag import plot_functions as plf\n",
    "from gravmag import eqlayer as eql\n",
    "from gravmag import inverse_distance as idist\n",
    "from gravmag import convolve as conv\n",
    "from gravmag import constants as cts"
   ]
  },
  {
   "cell_type": "markdown",
   "id": "cb935c2f",
   "metadata": {},
   "source": [
    "### Data points"
   ]
  },
  {
   "cell_type": "code",
   "execution_count": 2,
   "id": "65f840d0",
   "metadata": {},
   "outputs": [],
   "source": [
    "with open('data_points.pickle', 'rb') as f:\n",
    "    data_points = pickle.load(f)"
   ]
  },
  {
   "cell_type": "code",
   "execution_count": 3,
   "id": "142c9347",
   "metadata": {},
   "outputs": [
    {
     "name": "stdout",
     "output_type": "stream",
     "text": [
      "(50, 50)\n",
      "[-5000, 5000, -4000, 6000]\n"
     ]
    }
   ],
   "source": [
    "# number of points along x and y\n",
    "print(data_points['shape'])\n",
    "\n",
    "# minimum x, maximum x, minimum y and maximum y\n",
    "print(data_points['area'])"
   ]
  },
  {
   "cell_type": "markdown",
   "id": "317616b7",
   "metadata": {},
   "source": [
    "Data are y-oriented"
   ]
  },
  {
   "cell_type": "code",
   "execution_count": 4,
   "id": "7a302f52",
   "metadata": {},
   "outputs": [],
   "source": [
    "# Grid spacing\n",
    "dx = (data_points['area'][1] - data_points['area'][0])/(data_points['shape'][0]-1)\n",
    "dy = (data_points['area'][3] - data_points['area'][2])/(data_points['shape'][1]-1)"
   ]
  },
  {
   "cell_type": "code",
   "execution_count": 5,
   "id": "54d43d9d",
   "metadata": {},
   "outputs": [
    {
     "data": {
      "text/plain": [
       "(204.08163265306123, 204.08163265306123)"
      ]
     },
     "execution_count": 5,
     "metadata": {},
     "output_type": "execute_result"
    }
   ],
   "source": [
    "dx, dy"
   ]
  },
  {
   "cell_type": "code",
   "execution_count": 6,
   "id": "9448ec80",
   "metadata": {},
   "outputs": [],
   "source": [
    "# total number of data\n",
    "D = np.prod(data_points['shape'])"
   ]
  },
  {
   "cell_type": "code",
   "execution_count": 13,
   "id": "d52a3c70-11cc-42b2-bb6d-5dc0704a4925",
   "metadata": {},
   "outputs": [
    {
     "data": {
      "text/plain": [
       "'yx'"
      ]
     },
     "execution_count": 13,
     "metadata": {},
     "output_type": "execute_result"
    }
   ],
   "source": [
    "data_points['grid']['ordering']"
   ]
  },
  {
   "cell_type": "code",
   "execution_count": 14,
   "id": "9bc4d105-7efa-47b3-a4e0-7527491de2d2",
   "metadata": {},
   "outputs": [],
   "source": [
    "Q = data_points['grid']['x'].size # number of blocks\n",
    "P = data_points['grid']['y'].size # number of points per block"
   ]
  },
  {
   "cell_type": "markdown",
   "id": "e4ce91a1",
   "metadata": {},
   "source": [
    "### Noise-free gravity data"
   ]
  },
  {
   "cell_type": "code",
   "execution_count": 7,
   "id": "10e163f6",
   "metadata": {},
   "outputs": [],
   "source": [
    "with open('gravity_data.pickle', 'rb') as f:\n",
    "    gravity_data = pickle.load(f)"
   ]
  },
  {
   "cell_type": "markdown",
   "id": "fd34c5d5",
   "metadata": {},
   "source": [
    "### Noise-corrupted gravity data"
   ]
  },
  {
   "cell_type": "code",
   "execution_count": 8,
   "id": "1fb320eb",
   "metadata": {},
   "outputs": [],
   "source": [
    "with open('gravity_data_noisy.pickle', 'rb') as f:\n",
    "    gravity_data_noisy = pickle.load(f)"
   ]
  },
  {
   "cell_type": "markdown",
   "id": "87f34328",
   "metadata": {},
   "source": [
    "### Set the equivalent sources location"
   ]
  },
  {
   "cell_type": "code",
   "execution_count": 9,
   "id": "363d24e1",
   "metadata": {},
   "outputs": [],
   "source": [
    "# depth of the equivalent layer\n",
    "Delta_z = 3*dx"
   ]
  },
  {
   "cell_type": "markdown",
   "id": "547ebde1",
   "metadata": {},
   "source": [
    "### Compute the first column of sensitivity matrix"
   ]
  },
  {
   "cell_type": "code",
   "execution_count": 10,
   "id": "488405a1-23de-4628-ae96-854d0c005120",
   "metadata": {},
   "outputs": [],
   "source": [
    "R2 = idist.sedm_BTTB(data_grid=data_points['grid'], delta_z=Delta_z)"
   ]
  },
  {
   "cell_type": "code",
   "execution_count": 12,
   "id": "1a711349",
   "metadata": {},
   "outputs": [],
   "source": [
    "g0 = cts.GRAVITATIONAL_CONST*cts.SI2MGAL*(\n",
    "    idist.grad_BTTB(data_grid=data_points['grid'], delta_z=Delta_z, SEDM=R2, components=['z'])[0]\n",
    ")    "
   ]
  },
  {
   "cell_type": "code",
   "execution_count": 15,
   "id": "2630703b",
   "metadata": {},
   "outputs": [],
   "source": [
    "# first column of the embedding BCCB matric\n",
    "c0 = conv.embedding_BCCB_first_column(\n",
    "    b0=g0, Q=Q, P=P, symmetry='symm-symm'\n",
    ")"
   ]
  },
  {
   "cell_type": "code",
   "execution_count": 16,
   "id": "1c43daf6",
   "metadata": {},
   "outputs": [],
   "source": [
    "# matrix of eigenvalues\n",
    "L = conv.eigenvalues_BCCB(c0=c0, Q=Q, P=P)"
   ]
  },
  {
   "cell_type": "code",
   "execution_count": 17,
   "id": "f04381c2-6f2c-4aac-a56f-3212acf3841a",
   "metadata": {},
   "outputs": [],
   "source": [
    "# transposition factors\n",
    "TF = [1]"
   ]
  },
  {
   "cell_type": "markdown",
   "id": "1bbe65e3",
   "metadata": {},
   "source": [
    "### Estimate the physical-property distribution"
   ]
  },
  {
   "cell_type": "code",
   "execution_count": null,
   "id": "07ba8e1e",
   "metadata": {},
   "outputs": [],
   "source": [
    "# physical-property distribution\n",
    "convergence, parameters = eql.method_iterative_deconvolution_grav_TOB20(\n",
    "    data=gravity_data_noisy['d20'], epsilon=1e-3, \n",
    "    L=L, Q=data_points['shape'][0], P=data_points['shape'][1], \n",
    "    ordering=\"row\", ITMAX=50, check_input=True\n",
    "    )"
   ]
  },
  {
   "cell_type": "code",
   "execution_count": null,
   "id": "826e8295",
   "metadata": {},
   "outputs": [],
   "source": [
    "iterations = [i for i in range(len(convergence))]"
   ]
  },
  {
   "cell_type": "code",
   "execution_count": null,
   "id": "a721cb27",
   "metadata": {},
   "outputs": [],
   "source": [
    "fig, ax = plt.subplots(figsize=(8,4))\n",
    "\n",
    "# ax.semilogy(iterations, convergence, linestyle='-', \n",
    "#             color='purple', marker='^', alpha=1, markersize=4, label='$\\mathtt{TOB20}$')\n",
    "ax.plot(iterations, convergence, linestyle='-', \n",
    "        color='purple', marker='^', alpha=1, markersize=4, label='$\\mathtt{TOB20}$')\n",
    "\n",
    "ax.tick_params(axis='x', labelsize=12)\n",
    "ax.tick_params(axis='y', labelsize=12)\n",
    "ax.set_xlabel('Iterations', fontsize=16)\n",
    "ax.set_ylabel('$\\Vert \\mathbf{r} \\Vert \\, \\slash \\, D$  (mGal)', fontsize=16)\n",
    "ax.grid(True)\n",
    "ax.legend(loc='best', fontsize=10)\n",
    "plt.tight_layout()\n",
    "#plt.savefig('../manuscript/Fig/convergence_TOB20.png', dpi= 300)\n",
    "plt.show()"
   ]
  },
  {
   "cell_type": "code",
   "execution_count": null,
   "id": "4cffbafd",
   "metadata": {},
   "outputs": [],
   "source": [
    "# data predicted by the estimated equivalent layer\n",
    "predicted_gz = conv.product_BCCB_vector(\n",
    "    L=L, Q=data_points['shape'][0], P=data_points['shape'][1], v=parameters\n",
    ")"
   ]
  },
  {
   "cell_type": "code",
   "execution_count": null,
   "id": "561fb50e",
   "metadata": {},
   "outputs": [],
   "source": [
    "# residuals vector\n",
    "residuals_data = predicted_gz - gravity_data_noisy['d20']"
   ]
  },
  {
   "cell_type": "markdown",
   "id": "7c1f09fe",
   "metadata": {},
   "source": [
    "### Plot the data fit"
   ]
  },
  {
   "cell_type": "code",
   "execution_count": null,
   "id": "810afba4",
   "metadata": {},
   "outputs": [],
   "source": [
    "ranges_data = np.max(np.abs(gravity_data_noisy['d20']))\n",
    "ranges_res = np.max(np.abs(residuals_data))"
   ]
  },
  {
   "cell_type": "code",
   "execution_count": null,
   "id": "d9ee211a",
   "metadata": {},
   "outputs": [],
   "source": [
    "fig = plt.figure(layout= 'constrained', figsize=(10,4))\n",
    "mosaic = fig.subplot_mosaic('''\n",
    "                            ab\n",
    "                            ''')\n",
    "ax = mosaic['a']\n",
    "ax.axis('scaled')\n",
    "im = ax.contourf(data_points['coordinates'][1].reshape(data_points['shape'])*0.001, \n",
    "                 data_points['coordinates'][0].reshape(data_points['shape'])*0.001, \n",
    "                 predicted_gz.reshape(data_points['shape']), 20, \n",
    "                 cmap='seismic', vmin=-ranges_data, vmax=ranges_data)\n",
    "fig.colorbar(im, ax=ax)\n",
    "ax.set_ylim(0.001*data_points['area'][0], 0.001*data_points['area'][1])\n",
    "ax.set_xlim(0.001*data_points['area'][2], 0.001*data_points['area'][3])\n",
    "ax.tick_params(axis='x', labelsize=14)\n",
    "ax.tick_params(axis='y', labelsize=14)\n",
    "ax.grid()\n",
    "ax.annotate('(A)', xy=(-0.14, 0.95), xycoords='axes fraction', fontsize=18)\n",
    "mosaic['a'].set_ylabel('x (km)', fontsize=16)\n",
    "mosaic['a'].set_xlabel('y (km)', fontsize=16)\n",
    "\n",
    "ax = mosaic['b']\n",
    "ax.axis('scaled')\n",
    "im = ax.contourf(data_points['coordinates'][1].reshape(data_points['shape'])*0.001, \n",
    "                 data_points['coordinates'][0].reshape(data_points['shape'])*0.001, \n",
    "                 residuals_data.reshape(data_points['shape']), 20, \n",
    "                 cmap='seismic', vmin=-ranges_res, vmax=ranges_res)\n",
    "fig.colorbar(im, ax=ax)\n",
    "ax.set_ylim(0.001*data_points['area'][0], 0.001*data_points['area'][1])\n",
    "ax.set_xlim(0.001*data_points['area'][2], 0.001*data_points['area'][3])\n",
    "ax.tick_params(axis='x', labelsize=14)\n",
    "ax.tick_params(axis='y', labelsize=14)\n",
    "ax.grid()\n",
    "ax.annotate('(B)', xy=(-0.14, 0.95), xycoords='axes fraction', fontsize=18)\n",
    "#mosaic['b'].set_ylabel('x (km)', fontsize=16)\n",
    "mosaic['b'].set_xlabel('y (km)', fontsize=16)\n",
    "\n",
    "plt.show()"
   ]
  },
  {
   "cell_type": "markdown",
   "id": "2c6e1c4e",
   "metadata": {},
   "source": [
    "### Plot the residuals"
   ]
  },
  {
   "cell_type": "code",
   "execution_count": null,
   "id": "41fb1b86",
   "metadata": {},
   "outputs": [],
   "source": [
    "tensor_components = ['xx', 'xy', 'xz', 'yy', 'yz', 'zz']\n",
    "\n",
    "symmetries = ['symm-symm', 'skew-skew', 'skew-symm', 'symm-symm', 'symm-skew', 'symm-symm']\n",
    "\n",
    "labels = ['(A)', '(B)', '(C)', '(D)', '(E)', '(F)']\n",
    "\n",
    "mosaic_elements = ['a', 'b', 'c', 'd', 'e', 'f']"
   ]
  },
  {
   "cell_type": "code",
   "execution_count": null,
   "id": "8b9315f8",
   "metadata": {},
   "outputs": [],
   "source": [
    "residuals = dict()\n",
    "residuals['gz'] = residuals_data\n",
    "\n",
    "# residuals tensor components\n",
    "for (tensor_component, symmetry) in zip(tensor_components, symmetries):\n",
    "    # kernel matrix associated with the equivalent layer\n",
    "    g0 = cts.GRAVITATIONAL_CONST*cts.SI2EOTVOS*(\n",
    "         eql.kernel_matrix_monopoles(data_points['coordinates'], \n",
    "                                     z_layer, field=tensor_component, first_column=True\n",
    "                                    )\n",
    "    )\n",
    "    # first column of the embedding BCCB matric\n",
    "    c0 = conv.embedding_BCCB_first_column(\n",
    "        b0=g0[:,0], Q=data_points['shape'][0], P=data_points['shape'][1], symmetry=symmetry\n",
    "    )\n",
    "    # matrix of eigenvalues\n",
    "    L = conv.eigenvalues_BCCB(\n",
    "        c0=c0, Q=data_points['shape'][0], P=data_points['shape'][1]\n",
    "    )\n",
    "    # data predicted by the estimated equivalent layer\n",
    "    predicted_data = conv.product_BCCB_vector(\n",
    "        L=L, Q=data_points['shape'][0], P=data_points['shape'][1], v=parameters\n",
    "    )\n",
    "    residuals['g{}'.format(tensor_component)] = predicted_data - gravity_data['g{}'.format(tensor_component)]"
   ]
  },
  {
   "cell_type": "code",
   "execution_count": null,
   "id": "271559b2",
   "metadata": {},
   "outputs": [],
   "source": [
    "# compute ranges\n",
    "ranges_gz = np.max(np.abs(residuals['gz']))\n",
    "ranges_tensor = []\n",
    "for tensor_component in tensor_components:\n",
    "    ranges_tensor.append(np.max(np.abs(residuals['g{}'.format(tensor_component)])))\n",
    "ranges_tensor = 0.9*np.max(ranges_tensor)"
   ]
  },
  {
   "cell_type": "code",
   "execution_count": null,
   "id": "e7078819",
   "metadata": {},
   "outputs": [],
   "source": [
    "# plot figure\n",
    "fig = plt.figure(layout= 'constrained', figsize=(18,14))\n",
    "mosaic = fig.subplot_mosaic('''\n",
    "                            abc\n",
    "                            .de\n",
    "                            g.f\n",
    "                            ''')\n",
    "# tensor components\n",
    "for (element, tensor_component, label) in zip(\n",
    "    mosaic_elements, tensor_components, labels\n",
    "):\n",
    "    ax = mosaic[element]\n",
    "    ax.axis('scaled')\n",
    "    im = ax.contourf(data_points['coordinates'][1].reshape(data_points['shape'])*0.001, \n",
    "                     data_points['coordinates'][0].reshape(data_points['shape'])*0.001, \n",
    "                     residuals['g{}'.format(tensor_component)].reshape(data_points['shape']), 20, \n",
    "                     cmap='seismic', vmin=-ranges_tensor, vmax=ranges_tensor)\n",
    "    cb = fig.colorbar(im, ax=ax)\n",
    "    cb.ax.tick_params(labelsize=14)\n",
    "    ax.set_ylim(0.001*data_points['area'][0], 0.001*data_points['area'][1])\n",
    "    ax.set_xlim(0.001*data_points['area'][2], 0.001*data_points['area'][3])\n",
    "    ax.tick_params(axis='x', labelsize=16)\n",
    "    ax.tick_params(axis='y', labelsize=16)\n",
    "    ax.grid()\n",
    "    ax.annotate(label, xy=(-0.16, 0.95), xycoords='axes fraction', fontsize=20)\n",
    "\n",
    "# gz\n",
    "ax = mosaic['g']\n",
    "ax.axis('scaled')\n",
    "im = ax.contourf(data_points['coordinates'][1].reshape(data_points['shape'])*0.001, \n",
    "                 data_points['coordinates'][0].reshape(data_points['shape'])*0.001, \n",
    "                 residuals['gz'].reshape(data_points['shape']), 20, \n",
    "                 cmap='seismic', vmin=-ranges_gz, vmax=ranges_gz)\n",
    "cb = fig.colorbar(im, ax=ax)\n",
    "cb.ax.tick_params(labelsize=14)\n",
    "ax.set_ylim(0.001*data_points['area'][0], 0.001*data_points['area'][1])\n",
    "ax.set_xlim(0.001*data_points['area'][2], 0.001*data_points['area'][3])\n",
    "ax.tick_params(axis='x', labelsize=16)\n",
    "ax.tick_params(axis='y', labelsize=16)\n",
    "ax.grid()\n",
    "ax.annotate('(G)', xy=(-0.16, 0.95), xycoords='axes fraction', fontsize=20)\n",
    "\n",
    "\n",
    "\n",
    "for element in ['a','d','f','g']:\n",
    "    mosaic[element].set_ylabel('x (km)', fontsize=18)\n",
    "    mosaic[element].set_xlabel('y (km)', fontsize=18)\n",
    "\n",
    "plt.savefig('../manuscript/Fig/TOB20_residuals.png', dpi= 300)\n",
    "plt.show()"
   ]
  },
  {
   "cell_type": "code",
   "execution_count": null,
   "id": "a20c81b2",
   "metadata": {},
   "outputs": [],
   "source": [
    "# compute mean and standard deviation\n",
    "mean_gz = np.mean(residuals['gz'])\n",
    "std_gz = np.std(residuals['gz'])"
   ]
  },
  {
   "cell_type": "code",
   "execution_count": null,
   "id": "1be03367",
   "metadata": {},
   "outputs": [],
   "source": [
    "# compute mean and standard deviation\n",
    "means_tensor = []\n",
    "stds_tensor = []\n",
    "for tensor_component in tensor_components:\n",
    "    means_tensor.append(\n",
    "        np.mean(residuals['g{}'.format(tensor_component)])\n",
    "    )\n",
    "    stds_tensor.append(\n",
    "        np.std(residuals['g{}'.format(tensor_component)])\n",
    "    )"
   ]
  },
  {
   "cell_type": "code",
   "execution_count": null,
   "id": "807870cb",
   "metadata": {},
   "outputs": [],
   "source": [
    "# plot histograms\n",
    "\n",
    "num_bins = 50\n",
    "\n",
    "\n",
    "fig = plt.figure(layout= 'constrained', figsize=(18,14))\n",
    "mosaic = fig.subplot_mosaic('''\n",
    "                            abc\n",
    "                            .de\n",
    "                            g.f\n",
    "                            ''')\n",
    "# tensor components\n",
    "for (element, tensor_component, label, mean, std) in zip(\n",
    "    mosaic_elements, tensor_components, labels, means_tensor, stds_tensor\n",
    "):\n",
    "    ax = mosaic[element]\n",
    "    # the histogram of the data\n",
    "    n, bins, patches = ax.hist(\n",
    "        (residuals['g{}'.format(tensor_component)] - mean)/std, \n",
    "        num_bins, density=True, color='black'\n",
    "    )\n",
    "    # add a 'best fit' line\n",
    "    best_fit = (\n",
    "        (1 / (np.sqrt(2 * np.pi))) * np.exp(-0.5 * (bins)**2)\n",
    "    )\n",
    "    ax.plot(bins, best_fit, 'r--', linewidth=3)\n",
    "    ax.set_title('mean = {:.2f} | std = {:.2f}'.format(mean, std), fontsize=16)\n",
    "    ax.set_xlim(-4, 4)\n",
    "    ax.tick_params(axis='x', labelsize=16)\n",
    "    ax.tick_params(axis='y', labelsize=16)\n",
    "    ax.grid()\n",
    "    ax.annotate(label, xy=(-0.20, 0.95), xycoords='axes fraction', fontsize=20)\n",
    "\n",
    "# gz\n",
    "ax = mosaic['g']\n",
    "# the histogram of the data\n",
    "n, bins, patches = ax.hist(\n",
    "    (residuals['gz'] - mean_gz)/std_gz, \n",
    "    num_bins, density=True, color='black'\n",
    ")\n",
    "# add a 'best fit' line\n",
    "best_fit = (\n",
    "    (1 / (np.sqrt(2 * np.pi))) * np.exp(-0.5 * (bins)**2)\n",
    ")\n",
    "ax.plot(bins, best_fit, 'r--', linewidth=3)\n",
    "ax.set_title('mean = {:.2f} | std = {:.2f}'.format(mean_gz, std_gz), fontsize=16)\n",
    "ax.set_xlim(-4, 4)\n",
    "ax.tick_params(axis='x', labelsize=16)\n",
    "ax.tick_params(axis='y', labelsize=16)\n",
    "ax.grid()\n",
    "ax.annotate('(G)', xy=(-0.20, 0.95), xycoords='axes fraction', fontsize=20)\n",
    "\n",
    "for element in ['a','d','f','g']:\n",
    "    mosaic[element].set_ylabel('Probability density', fontsize=18)\n",
    "    mosaic[element].set_xlabel('normalized residuals', fontsize=18)\n",
    "\n",
    "plt.savefig('../manuscript/Fig/TOB20_histograms.png', dpi= 300)\n",
    "plt.show()"
   ]
  },
  {
   "cell_type": "code",
   "execution_count": null,
   "id": "a18179c3",
   "metadata": {},
   "outputs": [],
   "source": []
  }
 ],
 "metadata": {
  "kernelspec": {
   "display_name": "Python 3 (ipykernel)",
   "language": "python",
   "name": "python3"
  },
  "language_info": {
   "codemirror_mode": {
    "name": "ipython",
    "version": 3
   },
   "file_extension": ".py",
   "mimetype": "text/x-python",
   "name": "python",
   "nbconvert_exporter": "python",
   "pygments_lexer": "ipython3",
   "version": "3.9.7"
  }
 },
 "nbformat": 4,
 "nbformat_minor": 5
}
