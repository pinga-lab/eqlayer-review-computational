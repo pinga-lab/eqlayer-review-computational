{
 "cells": [
  {
   "cell_type": "markdown",
   "id": "1f4397de",
   "metadata": {},
   "source": [
    "# Numerical statibility for Conjugate Gradient Least Squares - $\\mathtt{CGLS}$"
   ]
  },
  {
   "cell_type": "code",
   "execution_count": 1,
   "id": "f9d5f36b",
   "metadata": {},
   "outputs": [],
   "source": [
    "%matplotlib inline\n",
    "import matplotlib.pyplot as plt\n",
    "from matplotlib.pyplot import imshow\n",
    "from PIL import Image\n",
    "\n",
    "import numpy as np\n",
    "import pickle\n",
    "\n",
    "# 3D visualization\n",
    "import pyvista as pv\n",
    "\n",
    "from gravmag import plot_functions as plf\n",
    "from gravmag import eqlayer as eql\n",
    "from gravmag import inverse_distance as idist\n",
    "from gravmag import constants as cts"
   ]
  },
  {
   "cell_type": "markdown",
   "id": "cb935c2f",
   "metadata": {},
   "source": [
    "### Data points"
   ]
  },
  {
   "cell_type": "code",
   "execution_count": 2,
   "id": "65f840d0",
   "metadata": {},
   "outputs": [],
   "source": [
    "with open('data_points.pickle', 'rb') as f:\n",
    "    data_points = pickle.load(f)"
   ]
  },
  {
   "cell_type": "code",
   "execution_count": 3,
   "id": "142c9347",
   "metadata": {},
   "outputs": [
    {
     "name": "stdout",
     "output_type": "stream",
     "text": [
      "(50, 50)\n",
      "[-5000, 5000, -4000, 6000]\n"
     ]
    }
   ],
   "source": [
    "# number of points along x and y\n",
    "print(data_points['shape'])\n",
    "\n",
    "# minimum x, maximum x, minimum y and maximum y\n",
    "print(data_points['area'])"
   ]
  },
  {
   "cell_type": "code",
   "execution_count": 4,
   "id": "7a302f52",
   "metadata": {},
   "outputs": [],
   "source": [
    "# Grid spacing\n",
    "dx = (data_points['area'][1] - data_points['area'][0])/(data_points['shape'][0]-1)\n",
    "dy = (data_points['area'][3] - data_points['area'][2])/(data_points['shape'][1]-1)"
   ]
  },
  {
   "cell_type": "code",
   "execution_count": 5,
   "id": "54d43d9d",
   "metadata": {},
   "outputs": [
    {
     "data": {
      "text/plain": [
       "(204.08163265306123, 204.08163265306123)"
      ]
     },
     "execution_count": 5,
     "metadata": {},
     "output_type": "execute_result"
    }
   ],
   "source": [
    "dx, dy"
   ]
  },
  {
   "cell_type": "code",
   "execution_count": 6,
   "id": "9448ec80",
   "metadata": {},
   "outputs": [],
   "source": [
    "# total number of data\n",
    "D = np.prod(data_points['shape'])"
   ]
  },
  {
   "cell_type": "markdown",
   "id": "986a580d",
   "metadata": {},
   "source": [
    "### Noise-free gravity data"
   ]
  },
  {
   "cell_type": "code",
   "execution_count": 7,
   "id": "f4a4cf29",
   "metadata": {},
   "outputs": [],
   "source": [
    "with open('gravity_data.pickle', 'rb') as f:\n",
    "    gravity_data = pickle.load(f)"
   ]
  },
  {
   "cell_type": "markdown",
   "id": "fd34c5d5",
   "metadata": {},
   "source": [
    "### Noise-corrupted gravity data"
   ]
  },
  {
   "cell_type": "code",
   "execution_count": 8,
   "id": "1fb320eb",
   "metadata": {},
   "outputs": [],
   "source": [
    "with open('gravity_data_noisy.pickle', 'rb') as f:\n",
    "    gravity_data_noisy = pickle.load(f)"
   ]
  },
  {
   "cell_type": "markdown",
   "id": "87f34328",
   "metadata": {},
   "source": [
    "### Set the equivalent sources location"
   ]
  },
  {
   "cell_type": "code",
   "execution_count": 9,
   "id": "363d24e1",
   "metadata": {},
   "outputs": [],
   "source": [
    "# depth of the equivalent layer\n",
    "Delta_z = 3*dx\n",
    "z_layer = data_points['coordinates']['z'][0] + Delta_z"
   ]
  },
  {
   "cell_type": "code",
   "execution_count": 10,
   "id": "be5d1e9b",
   "metadata": {},
   "outputs": [
    {
     "data": {
      "text/plain": [
       "512.2448979591837"
      ]
     },
     "execution_count": 10,
     "metadata": {},
     "output_type": "execute_result"
    }
   ],
   "source": [
    "z_layer"
   ]
  },
  {
   "cell_type": "code",
   "execution_count": 11,
   "id": "a0a9a072",
   "metadata": {},
   "outputs": [],
   "source": [
    "# define source_points as a shallow copy of data_points, i.e., the elements\n",
    "# at each key are not copies\n",
    "source_points = data_points['coordinates'].copy()\n",
    "# set a new 'z' key for source_points\n",
    "source_points['z'] = np.zeros_like(data_points['coordinates']['z']) + z_layer"
   ]
  },
  {
   "cell_type": "markdown",
   "id": "547ebde1",
   "metadata": {},
   "source": [
    "### Compute the sensitivity matrix"
   ]
  },
  {
   "cell_type": "code",
   "execution_count": 12,
   "id": "9463d1f6",
   "metadata": {},
   "outputs": [],
   "source": [
    "# kernel matrix associated with the equivalent layer\n",
    "R2 = idist.sedm(data_points=data_points['coordinates'], source_points=source_points)\n",
    "G = cts.GRAVITATIONAL_CONST*cts.SI2MGAL*(\n",
    "    idist.grad(data_points=data_points['coordinates'], source_points=source_points, SEDM=R2, components=['z'])[0]\n",
    ")"
   ]
  },
  {
   "cell_type": "markdown",
   "id": "1bbe65e3",
   "metadata": {},
   "source": [
    "### Estimate the physical-property distribution with noise-free data"
   ]
  },
  {
   "cell_type": "code",
   "execution_count": 13,
   "id": "07ba8e1e",
   "metadata": {},
   "outputs": [],
   "source": [
    "# physical-property distribution\n",
    "convergence, parameters = eql.method_CGLS(\n",
    "    sensitivity_matrices=[G], data_vectors=[gravity_data['gz']], \n",
    "    epsilon=1e-3, ITMAX=50, check_input=True\n",
    "    )"
   ]
  },
  {
   "cell_type": "code",
   "execution_count": 14,
   "id": "826e8295",
   "metadata": {},
   "outputs": [],
   "source": [
    "iterations = [i for i in range(len(convergence))]"
   ]
  },
  {
   "cell_type": "code",
   "execution_count": 15,
   "id": "a721cb27",
   "metadata": {},
   "outputs": [
    {
     "data": {
      "image/png": "[encoded data removed]",
      "text/plain": [
       "<Figure size 800x400 with 1 Axes>"
      ]
     },
     "metadata": {},
     "output_type": "display_data"
    }
   ],
   "source": [
    "fig, ax = plt.subplots(figsize=(8,4))\n",
    "\n",
    "ax.plot(iterations, convergence, linestyle='-', \n",
    "        color='red', marker='x', alpha=1, markersize=4, label='$\\mathtt{CGLS}$')\n",
    "\n",
    "ax.tick_params(axis='x', labelsize=12)\n",
    "ax.tick_params(axis='y', labelsize=12)\n",
    "ax.set_xlabel('Iterations', fontsize=16)\n",
    "ax.set_ylabel('$\\Vert \\mathbf{r} \\Vert \\, \\slash \\, D$  (mGal)', fontsize=16)\n",
    "ax.grid(True)\n",
    "ax.legend(loc='best', fontsize=10)\n",
    "plt.tight_layout()\n",
    "plt.show()"
   ]
  },
  {
   "cell_type": "markdown",
   "id": "fa3390a0",
   "metadata": {},
   "source": [
    "### Estimate the physical-property distribution with noise-corrupted data to produce the numerical stability curve"
   ]
  },
  {
   "cell_type": "code",
   "execution_count": 16,
   "id": "255b02b4",
   "metadata": {},
   "outputs": [],
   "source": [
    "# define labels for noise levels\n",
    "levels = [i for i in range(1,21)]"
   ]
  },
  {
   "cell_type": "code",
   "execution_count": 17,
   "id": "14742c8c",
   "metadata": {},
   "outputs": [
    {
     "data": {
      "text/plain": [
       "[1, 2, 3, 4, 5, 6, 7, 8, 9, 10, 11, 12, 13, 14, 15, 16, 17, 18, 19, 20]"
      ]
     },
     "execution_count": 17,
     "metadata": {},
     "output_type": "execute_result"
    }
   ],
   "source": [
    "levels"
   ]
  },
  {
   "cell_type": "code",
   "execution_count": 18,
   "id": "4e0c947c",
   "metadata": {},
   "outputs": [],
   "source": [
    "model_perturbations = []\n",
    "data_perturbations = []\n",
    "\n",
    "data_norm = np.sqrt(np.sum(gravity_data['gz']*gravity_data['gz']))\n",
    "parameters_norm = np.sqrt(np.sum(parameters*parameters))\n",
    "\n",
    "for level in levels:\n",
    "    data_diff = gravity_data_noisy['d{}'.format(level)] - gravity_data['gz']\n",
    "    data_perturbation = np.sqrt(np.sum(data_diff*data_diff))/data_norm\n",
    "    data_perturbations.append(data_perturbation)\n",
    "    \n",
    "    # physical-property distribution with noise-corrupted data\n",
    "    convergence, parameters_noisy = eql.method_CGLS(\n",
    "        sensitivity_matrices=[G], data_vectors=[gravity_data_noisy['d{}'.format(level)]], \n",
    "        epsilon=1e-3, ITMAX=50, check_input=True\n",
    "        )\n",
    "    \n",
    "    parameters_diff = parameters_noisy - parameters\n",
    "    model_perturbation = np.sqrt(np.sum(parameters_diff*parameters_diff))/parameters_norm\n",
    "    model_perturbations.append(model_perturbation)"
   ]
  },
  {
   "cell_type": "code",
   "execution_count": 19,
   "id": "1a3d7926",
   "metadata": {},
   "outputs": [],
   "source": [
    "numerical_stability_curve = dict()\n",
    "numerical_stability_curve['model'] = model_perturbations\n",
    "numerical_stability_curve['data'] = data_perturbations"
   ]
  },
  {
   "cell_type": "markdown",
   "id": "7c1f09fe",
   "metadata": {},
   "source": [
    "### Plot the numerical stability curve"
   ]
  },
  {
   "cell_type": "code",
   "execution_count": 20,
   "id": "d9ee211a",
   "metadata": {},
   "outputs": [
    {
     "data": {
      "image/png": "[encoded data removed]",
      "text/plain": [
       "<Figure size 800x500 with 1 Axes>"
      ]
     },
     "metadata": {},
     "output_type": "display_data"
    }
   ],
   "source": [
    "fig, ax = plt.subplots(figsize=(8,5))\n",
    "\n",
    "ax.plot(model_perturbations, data_perturbations, linestyle='', \n",
    "        color='red', marker='x', alpha=1, markersize=4, label='$\\mathtt{CGLS}$')\n",
    "\n",
    "ax.tick_params(axis='x', labelsize=12)\n",
    "ax.tick_params(axis='y', labelsize=12)\n",
    "ax.set_xlabel('$\\Delta p^{\\ell}$', fontsize=18)\n",
    "ax.set_ylabel('$\\Delta d^{\\ell}$', fontsize=18)\n",
    "ax.grid(True)\n",
    "ax.legend(loc='best', fontsize=10)\n",
    "plt.tight_layout()\n",
    "#plt.savefig('../manuscript/Fig/CGLS-stability.png', dpi= 300)\n",
    "plt.show()"
   ]
  },
  {
   "cell_type": "markdown",
   "id": "a4e71f0b",
   "metadata": {},
   "source": [
    "### Save the numerical stability curve"
   ]
  },
  {
   "cell_type": "code",
   "execution_count": 21,
   "id": "ec9018d5",
   "metadata": {},
   "outputs": [],
   "source": [
    "file_name = 'CGLS_stability.pickle'\n",
    "with open(file_name, 'wb') as f:\n",
    "    pickle.dump(numerical_stability_curve, f)"
   ]
  },
  {
   "cell_type": "code",
   "execution_count": null,
   "id": "6aee9e5c",
   "metadata": {},
   "outputs": [],
   "source": []
  }
 ],
 "metadata": {
  "kernelspec": {
   "display_name": "Python 3 (ipykernel)",
   "language": "python",
   "name": "python3"
  },
  "language_info": {
   "codemirror_mode": {
    "name": "ipython",
    "version": 3
   },
   "file_extension": ".py",
   "mimetype": "text/x-python",
   "name": "python",
   "nbconvert_exporter": "python",
   "pygments_lexer": "ipython3",
   "version": "3.11.3"
  }
 },
 "nbformat": 4,
 "nbformat_minor": 5
}
