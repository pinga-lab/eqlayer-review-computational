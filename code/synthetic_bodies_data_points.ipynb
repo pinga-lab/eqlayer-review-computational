{
 "cells": [
  {
   "cell_type": "markdown",
   "metadata": {},
   "source": [
    "# Model and data points for numerical simulations"
   ]
  },
  {
   "cell_type": "markdown",
   "metadata": {},
   "source": [
    "### Things we have to import"
   ]
  },
  {
   "cell_type": "code",
   "execution_count": 1,
   "metadata": {},
   "outputs": [],
   "source": [
    "%matplotlib inline\n",
    "import matplotlib.pyplot as plt\n",
    "from matplotlib.pyplot import imshow\n",
    "\n",
    "from PIL import Image\n",
    "\n",
    "import numpy as np\n",
    "import pickle\n",
    "\n",
    "# 3D visualization\n",
    "import pyvista as pv\n",
    "\n",
    "from gravmag.models import rectangular_prism as rp\n",
    "from gravmag import plot_functions as plf"
   ]
  },
  {
   "cell_type": "markdown",
   "metadata": {},
   "source": [
    "### Points were we compute the synthetic data"
   ]
  },
  {
   "cell_type": "code",
   "execution_count": 2,
   "metadata": {},
   "outputs": [],
   "source": [
    "data_points = dict()"
   ]
  },
  {
   "cell_type": "code",
   "execution_count": 3,
   "metadata": {},
   "outputs": [],
   "source": [
    "# number of points along x and y\n",
    "shape = (50, 50)\n",
    "\n",
    "# minimum x, maximum x, minimum y and maximum y\n",
    "area = [-5000, 5000, -4000, 6000]"
   ]
  },
  {
   "cell_type": "code",
   "execution_count": 4,
   "metadata": {},
   "outputs": [],
   "source": [
    "data_points['shape'] = shape\n",
    "data_points['area'] = area"
   ]
  },
  {
   "cell_type": "code",
   "execution_count": 5,
   "metadata": {},
   "outputs": [],
   "source": [
    "# coordinates \n",
    "xp = np.linspace(area[0], area[1], shape[0])\n",
    "yp = np.linspace(area[2], area[3], shape[1])"
   ]
  },
  {
   "cell_type": "code",
   "execution_count": 6,
   "metadata": {},
   "outputs": [],
   "source": [
    "z0 = -100"
   ]
  },
  {
   "cell_type": "code",
   "execution_count": 7,
   "metadata": {},
   "outputs": [],
   "source": [
    "data_points['grid'] = {'x' : xp[:,np.newaxis], 'y' : yp, 'z' : z0, 'ordering' : 'yx'}"
   ]
  },
  {
   "cell_type": "code",
   "execution_count": 8,
   "metadata": {},
   "outputs": [],
   "source": [
    "# generate an y-oriented grid\n",
    "xp, yp = np.meshgrid(xp, yp, indexing=\"ij\")\n",
    "\n",
    "yp = np.ravel(yp)\n",
    "xp = np.ravel(xp)\n",
    "zp = np.zeros_like(xp) + z0"
   ]
  },
  {
   "cell_type": "code",
   "execution_count": 9,
   "metadata": {},
   "outputs": [
    {
     "data": {
      "text/plain": [
       "array([-5000., -5000., -5000., ...,  5000.,  5000.,  5000.])"
      ]
     },
     "execution_count": 9,
     "metadata": {},
     "output_type": "execute_result"
    }
   ],
   "source": [
    "xp"
   ]
  },
  {
   "cell_type": "code",
   "execution_count": 10,
   "metadata": {},
   "outputs": [
    {
     "data": {
      "text/plain": [
       "array([-4000.        , -3795.91836735, -3591.83673469, ...,\n",
       "        5591.83673469,  5795.91836735,  6000.        ])"
      ]
     },
     "execution_count": 10,
     "metadata": {},
     "output_type": "execute_result"
    }
   ],
   "source": [
    "yp"
   ]
  },
  {
   "cell_type": "code",
   "execution_count": 11,
   "metadata": {},
   "outputs": [],
   "source": [
    "data_points['coordinates'] = {'x' : xp, 'y' : yp, 'z' : zp}"
   ]
  },
  {
   "cell_type": "code",
   "execution_count": 12,
   "metadata": {},
   "outputs": [],
   "source": [
    "file_name = 'data_points.pickle'\n",
    "with open(file_name, 'wb') as f:\n",
    "    pickle.dump(data_points, f)"
   ]
  },
  {
   "cell_type": "markdown",
   "metadata": {},
   "source": [
    "### Model"
   ]
  },
  {
   "cell_type": "code",
   "execution_count": 13,
   "metadata": {},
   "outputs": [],
   "source": [
    "model = dict()"
   ]
  },
  {
   "cell_type": "markdown",
   "metadata": {},
   "source": [
    "#### Main model"
   ]
  },
  {
   "cell_type": "code",
   "execution_count": 14,
   "metadata": {},
   "outputs": [],
   "source": [
    "# Create a model formed by a single prism\n",
    "prisms_main = np.array([[-500, 500, 0, 2000, 10, 1010],\n",
    "                        [-1500, -500, 1000, 3000, 100, 1200],\n",
    "                        [1000, 3000, 2000, 2500, 90, 1500],\n",
    "                        [-4000, -1000, -3000, 1000, 100, 1400],\n",
    "                        [-3000, 1000, -2000, 4000, 1000, 1500]])\n",
    "\n",
    "densities_main = np.array([1500, -1800, -3000, 1200, -900]) # 2000 kg/m³ = 2 g/cm³"
   ]
  },
  {
   "cell_type": "markdown",
   "metadata": {},
   "source": [
    "#### Geological noise"
   ]
  },
  {
   "cell_type": "code",
   "execution_count": 15,
   "metadata": {},
   "outputs": [],
   "source": [
    "# center of Ns sources randomly distributed in the simulated area\n",
    "Ngn = 300\n",
    "\n",
    "xgn = area[0] + (area[1] - area[0])*np.random.rand(Ngn)\n",
    "ygn = area[2] + (area[3] - area[2])*np.random.rand(Ngn)\n",
    "zgn_top = 100.*np.random.rand(Ngn)\n",
    "\n",
    "# sizes \n",
    "Lgn = 100. + 200*np.random.rand(Ngn)\n",
    "\n",
    "# densities\n",
    "densities_gn = 2000. + 1000.*np.random.rand(Ngn)\n",
    "\n",
    "# create the sources\n",
    "prisms_gn = np.zeros((Ngn, 6))\n",
    "prisms_gn[:,0] = xgn - 0.5*Lgn\n",
    "prisms_gn[:,1] = xgn + 0.5*Lgn\n",
    "prisms_gn[:,2] = ygn - 0.5*Lgn\n",
    "prisms_gn[:,3] = ygn + 0.5*Lgn\n",
    "prisms_gn[:,4] = 0.\n",
    "prisms_gn[:,5] = zgn_top + Lgn"
   ]
  },
  {
   "cell_type": "code",
   "execution_count": 16,
   "metadata": {},
   "outputs": [],
   "source": [
    "prisms = np.vstack([prisms_main, prisms_gn])\n",
    "densities = np.hstack([densities_main, densities_gn])"
   ]
  },
  {
   "cell_type": "code",
   "execution_count": 17,
   "metadata": {},
   "outputs": [],
   "source": [
    "prisms_dict = {\n",
    "    'x1' : prisms[:,0],\n",
    "    'x2' : prisms[:,1],\n",
    "    'y1' : prisms[:,2],\n",
    "    'y2' : prisms[:,3],\n",
    "    'z1' : prisms[:,4],\n",
    "    'z2' : prisms[:,5]\n",
    "}"
   ]
  },
  {
   "cell_type": "code",
   "execution_count": 18,
   "metadata": {},
   "outputs": [],
   "source": [
    "prisms_long_wavelength_dict = {\n",
    "    'x1' : prisms_main[4:,0],\n",
    "    'x2' : prisms_main[4:,1],\n",
    "    'y1' : prisms_main[4:,2],\n",
    "    'y2' : prisms_main[4:,3],\n",
    "    'z1' : prisms_main[4:,4],\n",
    "    'z2' : prisms_main[4:,5]\n",
    "}\n",
    "\n",
    "prisms_mid_wavelength_dict = {\n",
    "    'x1' : prisms_main[:4,0],\n",
    "    'x2' : prisms_main[:4,1],\n",
    "    'y1' : prisms_main[:4,2],\n",
    "    'y2' : prisms_main[:4,3],\n",
    "    'z1' : prisms_main[:4,4],\n",
    "    'z2' : prisms_main[:4,5]\n",
    "}"
   ]
  },
  {
   "cell_type": "code",
   "execution_count": 19,
   "metadata": {},
   "outputs": [],
   "source": [
    "model['prisms'] = prisms_dict\n",
    "model['densities'] = densities"
   ]
  },
  {
   "cell_type": "code",
   "execution_count": 20,
   "metadata": {},
   "outputs": [],
   "source": [
    "file_name = 'synthetic_bodies.pickle'\n",
    "with open(file_name, 'wb') as f:\n",
    "    pickle.dump(model, f)"
   ]
  },
  {
   "cell_type": "markdown",
   "metadata": {},
   "source": [
    "### Plot the computed gravity disturbance with Matplotlib"
   ]
  },
  {
   "cell_type": "code",
   "execution_count": 21,
   "metadata": {},
   "outputs": [
    {
     "data": {
      "image/png": "[encoded data removed]",
      "text/plain": [
       "<Figure size 700x600 with 1 Axes>"
      ]
     },
     "metadata": {},
     "output_type": "display_data"
    }
   ],
   "source": [
    "plt.figure(figsize=(7,6))\n",
    "\n",
    "#plt.title(\"Gravity disturbance (mGal)\")\n",
    "plt.axis('scaled')\n",
    "# plt.plot(yp.reshape(shape)*0.001, \n",
    "#          xp.reshape(shape)*0.001, \n",
    "#          'k.', ms=1)\n",
    "\n",
    "plf.model_boundaries(\n",
    "    model=prisms_long_wavelength_dict,\n",
    "    color='k',\n",
    "    style='-',\n",
    "    width='3'\n",
    ")\n",
    "\n",
    "plf.model_boundaries(\n",
    "    model=prisms_mid_wavelength_dict,\n",
    "    color='k',\n",
    "    style='--',\n",
    "    width='2'\n",
    ")\n",
    "\n",
    "plt.ylim(0.001*area[0], 0.001*area[1])\n",
    "plt.xlim(0.001*area[2], 0.001*area[3])\n",
    "plt.xticks(np.linspace(-4, 6, 11), fontsize=14)\n",
    "plt.yticks(np.linspace(-5, 5, 11), fontsize=14)\n",
    "plt.annotate(text='A', xy=(0.15, 0.05), fontsize=14)\n",
    "plt.annotate(text='B', xy=(2.55, -0.95), fontsize=14)\n",
    "plt.annotate(text='C', xy=(1.55, 2.50), fontsize=14)\n",
    "plt.annotate(text='D', xy=(-2.80, -3.80), fontsize=14)\n",
    "plt.annotate(text='E', xy=(-1.80, 0.50), fontsize=14)\n",
    "plt.xlabel('y (km)', fontsize=16)\n",
    "plt.ylabel('x (km)', fontsize=16)\n",
    "plt.grid()\n",
    "plt.tight_layout()\n",
    "\n",
    "plt.savefig('../manuscript/Fig/synthetic-bodies.png', dpi= 300)\n",
    "plt.show()"
   ]
  },
  {
   "cell_type": "markdown",
   "metadata": {},
   "source": [
    "### Plot  and/or save the computed gravity disturbance and the model with PyVista"
   ]
  },
  {
   "cell_type": "code",
   "execution_count": 22,
   "metadata": {},
   "outputs": [
    {
     "ename": "AttributeError",
     "evalue": "module 'numpy' has no attribute 'bool'.\n`np.bool` was a deprecated alias for the builtin `bool`. To avoid this error in existing code, use `bool` by itself. Doing this will not modify any behavior and is safe. If you specifically wanted the numpy scalar type, use `np.bool_` here.\nThe aliases was originally deprecated in NumPy 1.20; for more details and guidance see the original release note at:\n    https://numpy.org/devdocs/release/1.20.0-notes.html#deprecations",
     "output_type": "error",
     "traceback": [
      "\u001b[0;31m---------------------------------------------------------------------------\u001b[0m",
      "\u001b[0;31mAttributeError\u001b[0m                            Traceback (most recent call last)",
      "Cell \u001b[0;32mIn[22], line 1\u001b[0m\n\u001b[0;32m----> 1\u001b[0m model_mesh \u001b[38;5;241m=\u001b[39m plf\u001b[38;5;241m.\u001b[39mprisms_to_pyvista(prisms_dict, densities)\n",
      "File \u001b[0;32m~/Documents/Repositorios/gravmag/gravmag/plot_functions.py:232\u001b[0m, in \u001b[0;36mprisms_to_pyvista\u001b[0;34m(prisms, prop)\u001b[0m\n\u001b[1;32m    229\u001b[0m points \u001b[38;5;241m=\u001b[39m np\u001b[38;5;241m.\u001b[39mvstack(points)\n\u001b[1;32m    231\u001b[0m \u001b[38;5;66;03m# create the model mesh (pyvista.UnstructuredGrid)\u001b[39;00m\n\u001b[0;32m--> 232\u001b[0m model_mesh \u001b[38;5;241m=\u001b[39m pv\u001b[38;5;241m.\u001b[39mUnstructuredGrid(cells, cell_type, points)\n\u001b[1;32m    234\u001b[0m \u001b[38;5;66;03m# add physical property\u001b[39;00m\n\u001b[1;32m    235\u001b[0m model_mesh\u001b[38;5;241m.\u001b[39mcell_data[\u001b[38;5;124m\"\u001b[39m\u001b[38;5;124mprop\u001b[39m\u001b[38;5;124m\"\u001b[39m] \u001b[38;5;241m=\u001b[39m prop\u001b[38;5;241m.\u001b[39mflatten(order\u001b[38;5;241m=\u001b[39m\u001b[38;5;124m\"\u001b[39m\u001b[38;5;124mF\u001b[39m\u001b[38;5;124m\"\u001b[39m)\n",
      "File \u001b[0;32m~/anaconda3/lib/python3.11/site-packages/pyvista/core/pointset.py:1415\u001b[0m, in \u001b[0;36mUnstructuredGrid.__init__\u001b[0;34m(self, deep, *args, **kwargs)\u001b[0m\n\u001b[1;32m   1412\u001b[0m arg2_is_seq \u001b[38;5;241m=\u001b[39m \u001b[38;5;28misinstance\u001b[39m(args[\u001b[38;5;241m2\u001b[39m], (np\u001b[38;5;241m.\u001b[39mndarray, collections\u001b[38;5;241m.\u001b[39mabc\u001b[38;5;241m.\u001b[39mSequence))\n\u001b[1;32m   1414\u001b[0m \u001b[38;5;28;01mif\u001b[39;00m \u001b[38;5;28mall\u001b[39m([arg0_is_seq, arg1_is_seq, arg2_is_seq]):\n\u001b[0;32m-> 1415\u001b[0m     \u001b[38;5;28mself\u001b[39m\u001b[38;5;241m.\u001b[39m_from_arrays(args[\u001b[38;5;241m0\u001b[39m], args[\u001b[38;5;241m1\u001b[39m], args[\u001b[38;5;241m2\u001b[39m], deep, \u001b[38;5;241m*\u001b[39m\u001b[38;5;241m*\u001b[39mkwargs)\n\u001b[1;32m   1416\u001b[0m     \u001b[38;5;28mself\u001b[39m\u001b[38;5;241m.\u001b[39m_check_for_consistency()\n\u001b[1;32m   1417\u001b[0m \u001b[38;5;28;01melse\u001b[39;00m:\n",
      "File \u001b[0;32m~/anaconda3/lib/python3.11/site-packages/pyvista/core/pointset.py:1526\u001b[0m, in \u001b[0;36mUnstructuredGrid._from_arrays\u001b[0;34m(self, cells, cell_type, points, deep, force_float)\u001b[0m\n\u001b[1;32m   1523\u001b[0m points \u001b[38;5;241m=\u001b[39m np\u001b[38;5;241m.\u001b[39masarray(points)\n\u001b[1;32m   1525\u001b[0m \u001b[38;5;66;03m# Convert to vtk arrays\u001b[39;00m\n\u001b[0;32m-> 1526\u001b[0m vtkcells \u001b[38;5;241m=\u001b[39m CellArray(cells, cell_type\u001b[38;5;241m.\u001b[39msize, deep)\n\u001b[1;32m   1527\u001b[0m \u001b[38;5;28;01mif\u001b[39;00m cell_type\u001b[38;5;241m.\u001b[39mdtype \u001b[38;5;241m!=\u001b[39m np\u001b[38;5;241m.\u001b[39muint8:\n\u001b[1;32m   1528\u001b[0m     cell_type \u001b[38;5;241m=\u001b[39m cell_type\u001b[38;5;241m.\u001b[39mastype(np\u001b[38;5;241m.\u001b[39muint8)\n",
      "File \u001b[0;32m~/anaconda3/lib/python3.11/site-packages/pyvista/core/cell.py:488\u001b[0m, in \u001b[0;36mCellArray.__init__\u001b[0;34m(self, cells, n_cells, deep)\u001b[0m\n\u001b[1;32m    486\u001b[0m \u001b[38;5;250m\u001b[39m\u001b[38;5;124;03m\"\"\"Initialize a vtkCellArray.\"\"\"\u001b[39;00m\n\u001b[1;32m    487\u001b[0m \u001b[38;5;28;01mif\u001b[39;00m cells \u001b[38;5;129;01mis\u001b[39;00m \u001b[38;5;129;01mnot\u001b[39;00m \u001b[38;5;28;01mNone\u001b[39;00m:\n\u001b[0;32m--> 488\u001b[0m     \u001b[38;5;28mself\u001b[39m\u001b[38;5;241m.\u001b[39m_set_cells(cells, n_cells, deep)\n",
      "File \u001b[0;32m~/anaconda3/lib/python3.11/site-packages/pyvista/core/cell.py:491\u001b[0m, in \u001b[0;36mCellArray._set_cells\u001b[0;34m(self, cells, n_cells, deep)\u001b[0m\n\u001b[1;32m    490\u001b[0m \u001b[38;5;28;01mdef\u001b[39;00m \u001b[38;5;21m_set_cells\u001b[39m(\u001b[38;5;28mself\u001b[39m, cells, n_cells, deep):\n\u001b[0;32m--> 491\u001b[0m     vtk_idarr, cells \u001b[38;5;241m=\u001b[39m numpy_to_idarr(cells, deep\u001b[38;5;241m=\u001b[39mdeep, return_ind\u001b[38;5;241m=\u001b[39m\u001b[38;5;28;01mTrue\u001b[39;00m)\n\u001b[1;32m    493\u001b[0m     \u001b[38;5;66;03m# Get number of cells if None.  This is quite a performance\u001b[39;00m\n\u001b[1;32m    494\u001b[0m     \u001b[38;5;66;03m# bottleneck and we can consider adding a warning.  Good\u001b[39;00m\n\u001b[1;32m    495\u001b[0m     \u001b[38;5;66;03m# candidate for Cython or JIT compilation\u001b[39;00m\n\u001b[1;32m    496\u001b[0m     \u001b[38;5;28;01mif\u001b[39;00m n_cells \u001b[38;5;129;01mis\u001b[39;00m \u001b[38;5;28;01mNone\u001b[39;00m:\n",
      "File \u001b[0;32m~/anaconda3/lib/python3.11/site-packages/pyvista/core/utilities/cells.py:40\u001b[0m, in \u001b[0;36mnumpy_to_idarr\u001b[0;34m(ind, deep, return_ind)\u001b[0m\n\u001b[1;32m     37\u001b[0m     ind \u001b[38;5;241m=\u001b[39m np\u001b[38;5;241m.\u001b[39mascontiguousarray(ind, dtype\u001b[38;5;241m=\u001b[39mpyvista\u001b[38;5;241m.\u001b[39mID_TYPE)\n\u001b[1;32m     39\u001b[0m \u001b[38;5;66;03m# must ravel or segfault when saving MultiBlock\u001b[39;00m\n\u001b[0;32m---> 40\u001b[0m vtk_idarr \u001b[38;5;241m=\u001b[39m _vtk\u001b[38;5;241m.\u001b[39mnumpy_to_vtkIdTypeArray(ind\u001b[38;5;241m.\u001b[39mravel(), deep\u001b[38;5;241m=\u001b[39mdeep)\n\u001b[1;32m     41\u001b[0m \u001b[38;5;28;01mif\u001b[39;00m return_ind:\n\u001b[1;32m     42\u001b[0m     \u001b[38;5;28;01mreturn\u001b[39;00m vtk_idarr, ind\n",
      "File \u001b[0;32m~/anaconda3/lib/python3.11/site-packages/vtkmodules/util/numpy_support.py:198\u001b[0m, in \u001b[0;36mnumpy_to_vtkIdTypeArray\u001b[0;34m(num_array, deep)\u001b[0m\n\u001b[1;32m    194\u001b[0m     \u001b[38;5;28;01mif\u001b[39;00m dtype \u001b[38;5;241m!=\u001b[39m numpy\u001b[38;5;241m.\u001b[39mint64:\n\u001b[1;32m    195\u001b[0m         \u001b[38;5;28;01mraise\u001b[39;00m \u001b[38;5;167;01mValueError\u001b[39;00m(\n\u001b[1;32m    196\u001b[0m          \u001b[38;5;124m'\u001b[39m\u001b[38;5;124mExpecting a numpy.int64 array, got \u001b[39m\u001b[38;5;132;01m%s\u001b[39;00m\u001b[38;5;124m instead.\u001b[39m\u001b[38;5;124m'\u001b[39m \u001b[38;5;241m%\u001b[39m (\u001b[38;5;28mstr\u001b[39m(dtype)))\n\u001b[0;32m--> 198\u001b[0m \u001b[38;5;28;01mreturn\u001b[39;00m numpy_to_vtk(num_array, deep, vtkConstants\u001b[38;5;241m.\u001b[39mVTK_ID_TYPE)\n",
      "File \u001b[0;32m~/anaconda3/lib/python3.11/site-packages/vtkmodules/util/numpy_support.py:164\u001b[0m, in \u001b[0;36mnumpy_to_vtk\u001b[0;34m(num_array, deep, array_type)\u001b[0m\n\u001b[1;32m    161\u001b[0m result_array\u001b[38;5;241m.\u001b[39mSetNumberOfTuples(shape[\u001b[38;5;241m0\u001b[39m])\n\u001b[1;32m    163\u001b[0m \u001b[38;5;66;03m# Ravel the array appropriately.\u001b[39;00m\n\u001b[0;32m--> 164\u001b[0m arr_dtype \u001b[38;5;241m=\u001b[39m get_numpy_array_type(vtk_typecode)\n\u001b[1;32m    165\u001b[0m \u001b[38;5;28;01mif\u001b[39;00m numpy\u001b[38;5;241m.\u001b[39missubdtype(z\u001b[38;5;241m.\u001b[39mdtype, arr_dtype) \u001b[38;5;129;01mor\u001b[39;00m \\\n\u001b[1;32m    166\u001b[0m    z\u001b[38;5;241m.\u001b[39mdtype \u001b[38;5;241m==\u001b[39m numpy\u001b[38;5;241m.\u001b[39mdtype(arr_dtype):\n\u001b[1;32m    167\u001b[0m     z_flat \u001b[38;5;241m=\u001b[39m numpy\u001b[38;5;241m.\u001b[39mravel(z)\n",
      "File \u001b[0;32m~/anaconda3/lib/python3.11/site-packages/vtkmodules/util/numpy_support.py:94\u001b[0m, in \u001b[0;36mget_numpy_array_type\u001b[0;34m(vtk_array_type)\u001b[0m\n\u001b[1;32m     92\u001b[0m \u001b[38;5;28;01mdef\u001b[39;00m \u001b[38;5;21mget_numpy_array_type\u001b[39m(vtk_array_type):\n\u001b[1;32m     93\u001b[0m \u001b[38;5;250m    \u001b[39m\u001b[38;5;124;03m\"\"\"Returns a numpy array typecode given a VTK array type.\"\"\"\u001b[39;00m\n\u001b[0;32m---> 94\u001b[0m     \u001b[38;5;28;01mreturn\u001b[39;00m get_vtk_to_numpy_typemap()[vtk_array_type]\n",
      "File \u001b[0;32m~/anaconda3/lib/python3.11/site-packages/vtkmodules/util/numpy_support.py:74\u001b[0m, in \u001b[0;36mget_vtk_to_numpy_typemap\u001b[0;34m()\u001b[0m\n\u001b[1;32m     72\u001b[0m \u001b[38;5;28;01mdef\u001b[39;00m \u001b[38;5;21mget_vtk_to_numpy_typemap\u001b[39m():\n\u001b[1;32m     73\u001b[0m \u001b[38;5;250m    \u001b[39m\u001b[38;5;124;03m\"\"\"Returns the VTK array type to numpy array type mapping.\"\"\"\u001b[39;00m\n\u001b[0;32m---> 74\u001b[0m     _vtk_np \u001b[38;5;241m=\u001b[39m {vtkConstants\u001b[38;5;241m.\u001b[39mVTK_BIT:numpy\u001b[38;5;241m.\u001b[39mbool,\n\u001b[1;32m     75\u001b[0m                 vtkConstants\u001b[38;5;241m.\u001b[39mVTK_CHAR:numpy\u001b[38;5;241m.\u001b[39mint8,\n\u001b[1;32m     76\u001b[0m                 vtkConstants\u001b[38;5;241m.\u001b[39mVTK_SIGNED_CHAR:numpy\u001b[38;5;241m.\u001b[39mint8,\n\u001b[1;32m     77\u001b[0m                 vtkConstants\u001b[38;5;241m.\u001b[39mVTK_UNSIGNED_CHAR:numpy\u001b[38;5;241m.\u001b[39muint8,\n\u001b[1;32m     78\u001b[0m                 vtkConstants\u001b[38;5;241m.\u001b[39mVTK_SHORT:numpy\u001b[38;5;241m.\u001b[39mint16,\n\u001b[1;32m     79\u001b[0m                 vtkConstants\u001b[38;5;241m.\u001b[39mVTK_UNSIGNED_SHORT:numpy\u001b[38;5;241m.\u001b[39muint16,\n\u001b[1;32m     80\u001b[0m                 vtkConstants\u001b[38;5;241m.\u001b[39mVTK_INT:numpy\u001b[38;5;241m.\u001b[39mint32,\n\u001b[1;32m     81\u001b[0m                 vtkConstants\u001b[38;5;241m.\u001b[39mVTK_UNSIGNED_INT:numpy\u001b[38;5;241m.\u001b[39muint32,\n\u001b[1;32m     82\u001b[0m                 vtkConstants\u001b[38;5;241m.\u001b[39mVTK_LONG:LONG_TYPE_CODE,\n\u001b[1;32m     83\u001b[0m                 vtkConstants\u001b[38;5;241m.\u001b[39mVTK_LONG_LONG:numpy\u001b[38;5;241m.\u001b[39mint64,\n\u001b[1;32m     84\u001b[0m                 vtkConstants\u001b[38;5;241m.\u001b[39mVTK_UNSIGNED_LONG:ULONG_TYPE_CODE,\n\u001b[1;32m     85\u001b[0m                 vtkConstants\u001b[38;5;241m.\u001b[39mVTK_UNSIGNED_LONG_LONG:numpy\u001b[38;5;241m.\u001b[39muint64,\n\u001b[1;32m     86\u001b[0m                 vtkConstants\u001b[38;5;241m.\u001b[39mVTK_ID_TYPE:ID_TYPE_CODE,\n\u001b[1;32m     87\u001b[0m                 vtkConstants\u001b[38;5;241m.\u001b[39mVTK_FLOAT:numpy\u001b[38;5;241m.\u001b[39mfloat32,\n\u001b[1;32m     88\u001b[0m                 vtkConstants\u001b[38;5;241m.\u001b[39mVTK_DOUBLE:numpy\u001b[38;5;241m.\u001b[39mfloat64}\n\u001b[1;32m     89\u001b[0m     \u001b[38;5;28;01mreturn\u001b[39;00m _vtk_np\n",
      "File \u001b[0;32m~/anaconda3/lib/python3.11/site-packages/numpy/__init__.py:305\u001b[0m, in \u001b[0;36m__getattr__\u001b[0;34m(attr)\u001b[0m\n\u001b[1;32m    300\u001b[0m     warnings\u001b[38;5;241m.\u001b[39mwarn(\n\u001b[1;32m    301\u001b[0m         \u001b[38;5;124mf\u001b[39m\u001b[38;5;124m\"\u001b[39m\u001b[38;5;124mIn the future `np.\u001b[39m\u001b[38;5;132;01m{\u001b[39;00mattr\u001b[38;5;132;01m}\u001b[39;00m\u001b[38;5;124m` will be defined as the \u001b[39m\u001b[38;5;124m\"\u001b[39m\n\u001b[1;32m    302\u001b[0m         \u001b[38;5;124m\"\u001b[39m\u001b[38;5;124mcorresponding NumPy scalar.\u001b[39m\u001b[38;5;124m\"\u001b[39m, \u001b[38;5;167;01mFutureWarning\u001b[39;00m, stacklevel\u001b[38;5;241m=\u001b[39m\u001b[38;5;241m2\u001b[39m)\n\u001b[1;32m    304\u001b[0m \u001b[38;5;28;01mif\u001b[39;00m attr \u001b[38;5;129;01min\u001b[39;00m __former_attrs__:\n\u001b[0;32m--> 305\u001b[0m     \u001b[38;5;28;01mraise\u001b[39;00m \u001b[38;5;167;01mAttributeError\u001b[39;00m(__former_attrs__[attr])\n\u001b[1;32m    307\u001b[0m \u001b[38;5;66;03m# Importing Tester requires importing all of UnitTest which is not a\u001b[39;00m\n\u001b[1;32m    308\u001b[0m \u001b[38;5;66;03m# cheap import Since it is mainly used in test suits, we lazy import it\u001b[39;00m\n\u001b[1;32m    309\u001b[0m \u001b[38;5;66;03m# here to save on the order of 10 ms of import time for most users\u001b[39;00m\n\u001b[1;32m    310\u001b[0m \u001b[38;5;66;03m#\u001b[39;00m\n\u001b[1;32m    311\u001b[0m \u001b[38;5;66;03m# The previous way Tester was imported also had a side effect of adding\u001b[39;00m\n\u001b[1;32m    312\u001b[0m \u001b[38;5;66;03m# the full `numpy.testing` namespace\u001b[39;00m\n\u001b[1;32m    313\u001b[0m \u001b[38;5;28;01mif\u001b[39;00m attr \u001b[38;5;241m==\u001b[39m \u001b[38;5;124m'\u001b[39m\u001b[38;5;124mtesting\u001b[39m\u001b[38;5;124m'\u001b[39m:\n",
      "\u001b[0;31mAttributeError\u001b[0m: module 'numpy' has no attribute 'bool'.\n`np.bool` was a deprecated alias for the builtin `bool`. To avoid this error in existing code, use `bool` by itself. Doing this will not modify any behavior and is safe. If you specifically wanted the numpy scalar type, use `np.bool_` here.\nThe aliases was originally deprecated in NumPy 1.20; for more details and guidance see the original release note at:\n    https://numpy.org/devdocs/release/1.20.0-notes.html#deprecations"
     ]
    }
   ],
   "source": [
    "model_mesh = plf.prisms_to_pyvista(prisms_dict, densities)"
   ]
  },
  {
   "cell_type": "code",
   "execution_count": null,
   "metadata": {},
   "outputs": [],
   "source": [
    "pv.set_plot_theme('dark')\n",
    "\n",
    "pl = pv.Plotter()\n",
    "#pl.set_background('gray')\n",
    "\n",
    "#parameters of model colorbar\n",
    "model_sargs = dict(\n",
    "    title='density (kg/m^3)',\n",
    "    title_font_size=20,\n",
    "    label_font_size=16,\n",
    "    shadow=True,\n",
    "    n_labels=7,\n",
    "    italic=True,\n",
    "    fmt=\"%.1f\",\n",
    "    font_family=\"arial\",\n",
    ")\n",
    "\n",
    "# add model\n",
    "pl.add_mesh(\n",
    "    model_mesh,\n",
    "    scalars='prop',\n",
    "    cmap='viridis',\n",
    "    lighting=True,\n",
    "    scalar_bar_args=model_sargs,\n",
    "    show_edges=True,\n",
    ")\n",
    "\n",
    "# set visualization parameters\n",
    "# the order of the commands below changes the result\n",
    "pl.camera_position = 'zy'\n",
    "pl.camera.roll = -90\n",
    "pl.camera.azimuth = 15\n",
    "pl.camera.elevation = 30\n",
    "pl.camera.zoom(1.1)\n",
    "\n",
    "pl.show_axes()\n",
    "\n",
    "# show the interactive plot\n",
    "# pl.show()\n",
    "\n",
    "# save the image in an external file\n",
    "pl.screenshot('../manuscript/Fig/synthetic_bodies.png', return_img=False)"
   ]
  },
  {
   "cell_type": "markdown",
   "metadata": {},
   "source": [
    "### Plot the external image generated with PyVista"
   ]
  },
  {
   "cell_type": "code",
   "execution_count": null,
   "metadata": {},
   "outputs": [],
   "source": [
    "# read image generated with PyVista\n",
    "image = Image.open('synthetic_bodies.png')\n",
    "\n",
    "# plot image generated with PyVista\n",
    "plt.figure(figsize=(15,15))\n",
    "plt.imshow(image)\n",
    "plt.xticks([]) # remove x ticks\n",
    "plt.yticks([]) # remove y ticks\n",
    "plt.show()"
   ]
  },
  {
   "cell_type": "code",
   "execution_count": null,
   "metadata": {},
   "outputs": [],
   "source": []
  },
  {
   "cell_type": "code",
   "execution_count": null,
   "metadata": {},
   "outputs": [],
   "source": []
  }
 ],
 "metadata": {
  "kernelspec": {
   "display_name": "Python 3 (ipykernel)",
   "language": "python",
   "name": "python3"
  },
  "language_info": {
   "codemirror_mode": {
    "name": "ipython",
    "version": 3
   },
   "file_extension": ".py",
   "mimetype": "text/x-python",
   "name": "python",
   "nbconvert_exporter": "python",
   "pygments_lexer": "ipython3",
   "version": "3.11.3"
  }
 },
 "nbformat": 4,
 "nbformat_minor": 4
}
