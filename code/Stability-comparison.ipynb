{
 "cells": [
  {
   "cell_type": "markdown",
   "id": "71d8cf16",
   "metadata": {},
   "source": [
    "# Comparison between numerical stability curves"
   ]
  },
  {
   "cell_type": "code",
   "execution_count": 1,
   "id": "434a0527",
   "metadata": {},
   "outputs": [],
   "source": [
    "%matplotlib inline\n",
    "import matplotlib.pyplot as plt\n",
    "from matplotlib.pyplot import imshow\n",
    "from PIL import Image\n",
    "\n",
    "import numpy as np\n",
    "from numpy.polynomial import polynomial as pol\n",
    "import pickle"
   ]
  },
  {
   "cell_type": "markdown",
   "id": "2777069c",
   "metadata": {},
   "source": [
    "### Load numerical stability curves"
   ]
  },
  {
   "cell_type": "code",
   "execution_count": 2,
   "id": "b888fb4c",
   "metadata": {},
   "outputs": [],
   "source": [
    "methods = ['Cholesky', 'CGLS', 'SOB17', 'TOB20', \n",
    "           'deconv_unstable', 'deconv_suboptimal', 'deconv_optimal', 'deconv_overshoot']"
   ]
  },
  {
   "cell_type": "code",
   "execution_count": 3,
   "id": "181bd0a7",
   "metadata": {},
   "outputs": [],
   "source": [
    "stability_curves = []"
   ]
  },
  {
   "cell_type": "code",
   "execution_count": 4,
   "id": "ff1645d2",
   "metadata": {},
   "outputs": [],
   "source": [
    "for method in methods:\n",
    "    with open(method+'_stability.pickle', 'rb') as f:\n",
    "        stability_curves.append(pickle.load(f))"
   ]
  },
  {
   "cell_type": "markdown",
   "id": "4a2a6834",
   "metadata": {},
   "source": [
    "### Estimate the slopes of numerical stability curves"
   ]
  },
  {
   "cell_type": "code",
   "execution_count": 5,
   "id": "c832c15a",
   "metadata": {},
   "outputs": [],
   "source": [
    "lines = []\n",
    "\n",
    "# define the number of points forming each curve\n",
    "N = len(stability_curves[0]['model'])\n",
    "\n",
    "for curve in stability_curves:\n",
    "    # define the matrix for linear regression\n",
    "    A = pol.polyvander(curve['model'], 1)\n",
    "    # define the normal equations\n",
    "    ATA = A.T@A\n",
    "    ATd = A.T@curve['data']\n",
    "    # estimate the coefficients of the straight line\n",
    "    lines.append(np.linalg.solve(ATA, ATd))"
   ]
  },
  {
   "cell_type": "code",
   "execution_count": 16,
   "id": "e0d08a65",
   "metadata": {},
   "outputs": [
    {
     "name": "stdout",
     "output_type": "stream",
     "text": [
      "kappa_Cholesky: 2.2947744533320655\n",
      "kappa_CGLS: 2.3803420618531055\n",
      "kappa_SOB17: 3.2502345696885917\n",
      "kappa_TOB20: 2.37994276417169\n",
      "kappa_deconv_unstable: 4.827534605322033\n",
      "kappa_deconv_suboptimal: 1.5929540338731782\n",
      "kappa_deconv_optimal: 1.1173115188557763\n",
      "kappa_deconv_overshoot: 0.9338865590992813\n"
     ]
    }
   ],
   "source": [
    "for (method, line) in zip(methods, lines):\n",
    "    print('kappa_{}: {}'.format(method, line[1]))"
   ]
  },
  {
   "cell_type": "markdown",
   "id": "657d5694",
   "metadata": {},
   "source": [
    "### Plot the results"
   ]
  },
  {
   "cell_type": "code",
   "execution_count": null,
   "id": "c797850b",
   "metadata": {},
   "outputs": [],
   "source": [
    "names = ['$\\mathtt{Cholesky}$',\n",
    "         '$\\mathtt{CGLS}$',\n",
    "         '$\\mathtt{SOB17}$',\n",
    "         '$\\mathtt{TOB20}$',\n",
    "         '$\\mathtt{deconv}$ (unstable)',\n",
    "         '$\\mathtt{deconv}$ (suboptimal)',\n",
    "         '$\\mathtt{deconv}$ (optimal)',\n",
    "         '$\\mathtt{deconv}$ (overshoot)']\n",
    "\n",
    "colors = ['black',\n",
    "          'red',\n",
    "          'blue',\n",
    "          'purple',\n",
    "          'lightgrey', \n",
    "          'darkgrey', \n",
    "          'magenta',\n",
    "          'dimgrey']\n",
    "\n",
    "linestyles = ['-', '-', '-', '-', ':', ':', '-', ':']\n",
    "\n",
    "markers = ['o', \n",
    "           'x',\n",
    "           'v',\n",
    "           '^',\n",
    "           'D',\n",
    "           'D',\n",
    "           'D',\n",
    "           'D']"
   ]
  },
  {
   "cell_type": "code",
   "execution_count": null,
   "id": "6e1ae9ac",
   "metadata": {},
   "outputs": [],
   "source": [
    "Dp_min = 0\n",
    "Dp_max = 0.7\n",
    "\n",
    "fig, ax = plt.subplots(figsize=(8,5))\n",
    "\n",
    "for (color, linestyle, marker, method, name, line) in zip(colors, linestyles, markers, methods, names, lines):\n",
    "    ### Open the stability curve\n",
    "    file_name = method+'_stability.pickle'\n",
    "    with open(file_name, 'rb') as f:\n",
    "        numerical_stability_curve = pickle.load(f)\n",
    "    ### Plot the stability curve line\n",
    "    Dd_min = line[0] + line[1]*Dp_min\n",
    "    Dd_max = line[0] + line[1]*Dp_max\n",
    "    ax.plot([\n",
    "        Dp_min, Dp_max], [Dd_min, Dd_max],\n",
    "        linestyle=linestyle, color=color, marker='')\n",
    "    ### Plot the stability curve points\n",
    "    ax.plot(\n",
    "        numerical_stability_curve['model'], \n",
    "        numerical_stability_curve['data'], \n",
    "        linestyle='', color=color, marker=marker, alpha=1, markersize=4, label=name)\n",
    "\n",
    "ax.tick_params(axis='x', labelsize=12)\n",
    "ax.tick_params(axis='y', labelsize=12)\n",
    "ax.set_xlabel('$\\Delta p^{\\ell}$', fontsize=18)\n",
    "ax.set_ylabel('$\\Delta d^{\\ell}$', fontsize=18)\n",
    "ax.set_xlim(Dp_min, Dp_max)\n",
    "ax.grid(True)\n",
    "ax.legend(loc='best', fontsize=10)\n",
    "plt.tight_layout()\n",
    "plt.savefig('../manuscript/Fig/stability-comparison.png', dpi= 300)\n",
    "plt.show()"
   ]
  },
  {
   "cell_type": "code",
   "execution_count": null,
   "id": "b79886a4",
   "metadata": {},
   "outputs": [],
   "source": []
  }
 ],
 "metadata": {
  "kernelspec": {
   "display_name": "Python 3 (ipykernel)",
   "language": "python",
   "name": "python3"
  },
  "language_info": {
   "codemirror_mode": {
    "name": "ipython",
    "version": 3
   },
   "file_extension": ".py",
   "mimetype": "text/x-python",
   "name": "python",
   "nbconvert_exporter": "python",
   "pygments_lexer": "ipython3",
   "version": "3.9.15"
  }
 },
 "nbformat": 4,
 "nbformat_minor": 5
}
