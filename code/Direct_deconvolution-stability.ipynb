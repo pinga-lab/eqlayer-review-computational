{
 "cells": [
  {
   "cell_type": "markdown",
   "id": "1f4397de",
   "metadata": {},
   "source": [
    "# Numerical statibility for Direct deconvolution"
   ]
  },
  {
   "cell_type": "code",
   "execution_count": 1,
   "id": "f9d5f36b",
   "metadata": {},
   "outputs": [],
   "source": [
    "%matplotlib inline\n",
    "import matplotlib.pyplot as plt\n",
    "from matplotlib.pyplot import imshow\n",
    "from PIL import Image\n",
    "\n",
    "import numpy as np\n",
    "from scipy.linalg import cho_factor, cho_solve\n",
    "import pickle\n",
    "\n",
    "# 3D visualization\n",
    "import pyvista as pv\n",
    "\n",
    "from gravmag import plot_functions as plf\n",
    "from gravmag import eqlayer as eql\n",
    "from gravmag import convolve as conv\n",
    "from gravmag import constants as cts\n",
    "from gravmag import inverse_distance as idist"
   ]
  },
  {
   "cell_type": "markdown",
   "id": "cb935c2f",
   "metadata": {},
   "source": [
    "### Data points"
   ]
  },
  {
   "cell_type": "code",
   "execution_count": 2,
   "id": "65f840d0",
   "metadata": {},
   "outputs": [],
   "source": [
    "with open('data_points.pickle', 'rb') as f:\n",
    "    data_points = pickle.load(f)"
   ]
  },
  {
   "cell_type": "code",
   "execution_count": 3,
   "id": "142c9347",
   "metadata": {},
   "outputs": [
    {
     "name": "stdout",
     "output_type": "stream",
     "text": [
      "(50, 50)\n",
      "[-5000, 5000, -4000, 6000]\n"
     ]
    }
   ],
   "source": [
    "# number of points along x and y\n",
    "print(data_points['shape'])\n",
    "\n",
    "# minimum x, maximum x, minimum y and maximum y\n",
    "print(data_points['area'])"
   ]
  },
  {
   "cell_type": "code",
   "execution_count": 4,
   "id": "7a302f52",
   "metadata": {},
   "outputs": [],
   "source": [
    "# Grid spacing\n",
    "dx = (data_points['area'][1] - data_points['area'][0])/(data_points['shape'][0]-1)\n",
    "dy = (data_points['area'][3] - data_points['area'][2])/(data_points['shape'][1]-1)"
   ]
  },
  {
   "cell_type": "code",
   "execution_count": 5,
   "id": "54d43d9d",
   "metadata": {},
   "outputs": [
    {
     "data": {
      "text/plain": [
       "(204.08163265306123, 204.08163265306123)"
      ]
     },
     "execution_count": 5,
     "metadata": {},
     "output_type": "execute_result"
    }
   ],
   "source": [
    "dx, dy"
   ]
  },
  {
   "cell_type": "code",
   "execution_count": 6,
   "id": "9448ec80",
   "metadata": {},
   "outputs": [],
   "source": [
    "# total number of data\n",
    "D = np.prod(data_points['shape'])"
   ]
  },
  {
   "cell_type": "code",
   "execution_count": 7,
   "id": "ec831dc3",
   "metadata": {},
   "outputs": [
    {
     "data": {
      "text/plain": [
       "2500"
      ]
     },
     "execution_count": 7,
     "metadata": {},
     "output_type": "execute_result"
    }
   ],
   "source": [
    "D"
   ]
  },
  {
   "cell_type": "code",
   "execution_count": 8,
   "id": "cd354745-7d58-41a7-8e5e-3ef28d1783f8",
   "metadata": {},
   "outputs": [
    {
     "data": {
      "text/plain": [
       "'yx'"
      ]
     },
     "execution_count": 8,
     "metadata": {},
     "output_type": "execute_result"
    }
   ],
   "source": [
    "data_points['grid']['ordering']"
   ]
  },
  {
   "cell_type": "code",
   "execution_count": 9,
   "id": "e571d100-99ad-4350-8a86-427f4da50c97",
   "metadata": {},
   "outputs": [],
   "source": [
    "Q = data_points['grid']['x'].size # number of blocks\n",
    "P = data_points['grid']['y'].size # number of points per block"
   ]
  },
  {
   "cell_type": "markdown",
   "id": "d827df48",
   "metadata": {},
   "source": [
    "### Noise-free gravity data"
   ]
  },
  {
   "cell_type": "code",
   "execution_count": 10,
   "id": "d782403e",
   "metadata": {},
   "outputs": [],
   "source": [
    "with open('gravity_data.pickle', 'rb') as f:\n",
    "    gravity_data = pickle.load(f)"
   ]
  },
  {
   "cell_type": "markdown",
   "id": "fd34c5d5",
   "metadata": {},
   "source": [
    "### Noise-corrupted gravity data"
   ]
  },
  {
   "cell_type": "code",
   "execution_count": 11,
   "id": "1fb320eb",
   "metadata": {},
   "outputs": [],
   "source": [
    "with open('gravity_data_noisy.pickle', 'rb') as f:\n",
    "    gravity_data_noisy = pickle.load(f)"
   ]
  },
  {
   "cell_type": "markdown",
   "id": "87f34328",
   "metadata": {},
   "source": [
    "### Set the equivalent sources location"
   ]
  },
  {
   "cell_type": "code",
   "execution_count": 12,
   "id": "363d24e1",
   "metadata": {},
   "outputs": [],
   "source": [
    "# depth of the equivalent layer\n",
    "Delta_z = 3*dx"
   ]
  },
  {
   "cell_type": "markdown",
   "id": "547ebde1",
   "metadata": {},
   "source": [
    "### Compute the first column of sensitivity matrix"
   ]
  },
  {
   "cell_type": "code",
   "execution_count": 13,
   "id": "9463d1f6",
   "metadata": {},
   "outputs": [],
   "source": [
    "R2 = idist.sedm_BTTB(data_grid=data_points['grid'], delta_z=Delta_z)"
   ]
  },
  {
   "cell_type": "code",
   "execution_count": 14,
   "id": "0802c67d",
   "metadata": {},
   "outputs": [],
   "source": [
    "g0 = cts.GRAVITATIONAL_CONST*cts.SI2MGAL*(\n",
    "    idist.grad_BTTB(data_grid=data_points['grid'], delta_z=Delta_z, SEDM=R2, components=['z'])[0]\n",
    ")"
   ]
  },
  {
   "cell_type": "code",
   "execution_count": 15,
   "id": "1c43daf6",
   "metadata": {},
   "outputs": [],
   "source": [
    "BTTB = {\n",
    "    \"symmetry_structure\": \"symm\",\n",
    "    \"symmetry_blocks\": \"symm\",\n",
    "    \"nblocks\": Q,\n",
    "    \"columns\": np.reshape(g0, (Q, P)),\n",
    "    \"rows\": None,\n",
    "}"
   ]
  },
  {
   "cell_type": "markdown",
   "id": "e5477e90",
   "metadata": {},
   "source": [
    "### Define parameter $\\zeta$"
   ]
  },
  {
   "cell_type": "code",
   "execution_count": 16,
   "id": "ed73f3b3",
   "metadata": {},
   "outputs": [],
   "source": [
    "zetas = [1e-50, 1e-28, 1e-22, 1e-18]"
   ]
  },
  {
   "cell_type": "markdown",
   "id": "eb6071f6",
   "metadata": {},
   "source": [
    "### Define stability curves names"
   ]
  },
  {
   "cell_type": "code",
   "execution_count": 17,
   "id": "67fa3190",
   "metadata": {},
   "outputs": [],
   "source": [
    "# define labels for noise levels\n",
    "levels = [i for i in range(1,21)]"
   ]
  },
  {
   "cell_type": "code",
   "execution_count": 18,
   "id": "ec99c597",
   "metadata": {},
   "outputs": [
    {
     "data": {
      "text/plain": [
       "[1, 2, 3, 4, 5, 6, 7, 8, 9, 10, 11, 12, 13, 14, 15, 16, 17, 18, 19, 20]"
      ]
     },
     "execution_count": 18,
     "metadata": {},
     "output_type": "execute_result"
    }
   ],
   "source": [
    "levels"
   ]
  },
  {
   "cell_type": "code",
   "execution_count": 19,
   "id": "6983127d",
   "metadata": {},
   "outputs": [],
   "source": [
    "data_norm = np.sqrt(np.sum(gravity_data['gz']*gravity_data['gz']))"
   ]
  },
  {
   "cell_type": "code",
   "execution_count": 20,
   "id": "625a2d6b",
   "metadata": {},
   "outputs": [],
   "source": [
    "names = ['unstable', 'suboptimal', 'optimal', 'overshoot']"
   ]
  },
  {
   "cell_type": "code",
   "execution_count": 21,
   "id": "27eec468",
   "metadata": {},
   "outputs": [],
   "source": [
    "### Compute the numerical stability curves\n",
    "for (zeta, name) in zip(zetas, names):\n",
    "    ### Estimate the physical-property distribution with noise-free data\n",
    "    parameters = eql.method_direct_deconvolution(\n",
    "        sensitivity_matrix=BTTB, data=gravity_data['gz'], zeta=zeta, check_input=True\n",
    "    )\n",
    "    ### Estimate the physical-property distribution with noise-corrupted data to produce \n",
    "    ### the numerical stability curve\n",
    "    model_perturbations = []\n",
    "    data_perturbations = []\n",
    "\n",
    "    parameters_norm = np.sqrt(np.sum(parameters*parameters))\n",
    "\n",
    "    for level in levels:\n",
    "        data_diff = gravity_data_noisy['d{}'.format(level)] - gravity_data['gz']\n",
    "        data_perturbation = np.sqrt(np.sum(data_diff*data_diff))/data_norm\n",
    "        data_perturbations.append(data_perturbation)\n",
    "\n",
    "        # physical-property distribution with noise-corrupted data\n",
    "        parameters_noisy = eql.method_direct_deconvolution(\n",
    "            sensitivity_matrix=BTTB, data=gravity_data_noisy['d{}'.format(level)], zeta=zeta, check_input=True\n",
    "        )\n",
    "\n",
    "        parameters_diff = parameters_noisy - parameters\n",
    "        model_perturbation = np.sqrt(np.sum(parameters_diff*parameters_diff))/parameters_norm\n",
    "        model_perturbations.append(model_perturbation)\n",
    "    \n",
    "    ### Store the data- and model-perturbations\n",
    "    numerical_stability_curve = dict()\n",
    "    numerical_stability_curve['model'] = model_perturbations\n",
    "    numerical_stability_curve['data'] = data_perturbations\n",
    "    \n",
    "    ### Save the numerical stability curve\n",
    "    file_name = 'deconv_'+name+'_stability.pickle'\n",
    "    with open(file_name, 'wb') as f:\n",
    "        pickle.dump(numerical_stability_curve, f)"
   ]
  },
  {
   "cell_type": "markdown",
   "id": "215084fe",
   "metadata": {},
   "source": [
    "### Plot the stability curves"
   ]
  },
  {
   "cell_type": "code",
   "execution_count": 22,
   "id": "1c37cb8f",
   "metadata": {},
   "outputs": [],
   "source": [
    "colors = ['lightgrey', 'darkgrey', 'magenta', 'dimgrey']"
   ]
  },
  {
   "cell_type": "code",
   "execution_count": 23,
   "id": "93d18a11",
   "metadata": {},
   "outputs": [],
   "source": [
    "linestyles = [':', ':', '-', ':']"
   ]
  },
  {
   "cell_type": "code",
   "execution_count": 24,
   "id": "b3621fbf",
   "metadata": {},
   "outputs": [
    {
     "data": {
      "image/png": "[encoded data removed]",
      "text/plain": [
       "<Figure size 800x500 with 1 Axes>"
      ]
     },
     "metadata": {},
     "output_type": "display_data"
    }
   ],
   "source": [
    "fig, ax = plt.subplots(figsize=(8,5))\n",
    "\n",
    "for (color, linestyle, name) in zip(colors, linestyles, names):\n",
    "    ### Open the stability curve\n",
    "    file_name = 'deconv_'+name+'_stability.pickle'\n",
    "    with open(file_name, 'rb') as f:\n",
    "        numerical_stability_curve = pickle.load(f)\n",
    "\n",
    "    ax.plot(\n",
    "        numerical_stability_curve['model'], \n",
    "        numerical_stability_curve['data'], \n",
    "        linestyle=linestyle, color=color, marker='D', alpha=1, markersize=4, label=name)\n",
    "\n",
    "ax.tick_params(axis='x', labelsize=12)\n",
    "ax.tick_params(axis='y', labelsize=12)\n",
    "ax.set_xlabel('$\\Delta p^{\\ell}$', fontsize=18)\n",
    "ax.set_ylabel('$\\Delta d^{\\ell}$', fontsize=18)\n",
    "ax.grid(True)\n",
    "ax.legend(loc='best', fontsize=10)\n",
    "plt.tight_layout()\n",
    "#plt.savefig('../manuscript/Fig/deconv-stability.png', dpi= 300)\n",
    "plt.show()"
   ]
  },
  {
   "cell_type": "code",
   "execution_count": null,
   "id": "af1dc272",
   "metadata": {},
   "outputs": [],
   "source": []
  }
 ],
 "metadata": {
  "kernelspec": {
   "display_name": "Python 3 (ipykernel)",
   "language": "python",
   "name": "python3"
  },
  "language_info": {
   "codemirror_mode": {
    "name": "ipython",
    "version": 3
   },
   "file_extension": ".py",
   "mimetype": "text/x-python",
   "name": "python",
   "nbconvert_exporter": "python",
   "pygments_lexer": "ipython3",
   "version": "3.11.3"
  }
 },
 "nbformat": 4,
 "nbformat_minor": 5
}
